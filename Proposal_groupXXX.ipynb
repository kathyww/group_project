{
 "cells": [
  {
   "cell_type": "markdown",
   "metadata": {},
   "source": [
    "# COGS 118B - Project Proposal"
   ]
  },
  {
   "cell_type": "markdown",
   "metadata": {},
   "source": [
    "# Names\n",
    "\n",
    "Hopefully your team is at least this good. Obviously you should replace these with your names.\n",
    "\n",
    "- Yifan Lou\n",
    "- Jacob Lamadrid\n",
    "- Brandon Chu\n",
    "- Anvita Suresh\n",
    "- Sijia Wen"
   ]
  },
  {
   "cell_type": "markdown",
   "metadata": {},
   "source": [
    "# Abstract \n",
    "The project we are conducting will involve the application of deep learning techniques to Magnetic Resonance Imaging (MRI) data in order to address the task of detecting and classifying brain tumors. We are using a Brain Tumor MRI Dataset from Kaggle that consists of 7023 images of MRI images which are classified into four classes: glioma, meningioma, no tumor and pituitary. Leveraging this data, we aim to display proper brain tumor diagnosis by detecting the tumor and classifying it based on grade, type, malignancy, and location. In order to do this, we will deploy various deep learning techniques to effectively and accurately develop solutions to this problem. We will measure performance through the accuracy of the model in tumor detection, localization, and classification. Based on the success of our model, we will have aided in ongoing efforts to provide impactful solutions and improve health diagnoses in the domain of tumor detection."
   ]
  },
  {
   "cell_type": "markdown",
   "metadata": {},
   "source": [
    "# Background\n",
    "\n",
    "The Central Nervous System (CNS) consists of the brain and spinal cord. It serves as the main processing center for the entire body, playing a part in most biological functions. It regulates conscious thought, as well as unconscious processes such as heart rate, breathing, and blood pressure.<sup id=\"fn1-ref\"><a href=\"#fn1\">1</a></sup>\n",
    "\n",
    "CNS tumors describe an abnormal growth or mass of cells in the brain or spinal cord. They develop when the DNA in some cells change, giving harmful instructions to divide, leading to a buildup. These tumors can be classified as malignant–or harmful, and benign–or harmless.<sup id=\"fn2-ref\"><a href=\"#fn2\">2</a></sup>\n",
    "\n",
    "Brain and spinal cord cancer represents a significant public health concern, accounting for nearly 18,760 deaths in 2023.<sup id=\"fn3-ref\"><a href=\"#fn3\">3</a></sup> While only the 16th most common form of cancer<sup id=\"fn4-ref\"><a href=\"#fn4\">4</a></sup>, 40% of metastatic cancer transforms into brain cancer.<sup id=\"fn5-ref\"><a href=\"#fn5\">5</a></sup> This situation is exacerbated in low and middle-income countries (LMICs) where cancer-related mortality is significantly higher–especially in people younger than 65 years of age.<sup id=\"fn6-ref\"><a href=\"#fn6\">6</a></sup> Early detection of cancer has shown to significantly improve the survival rate, as well as drastically reduce treatment costs.<sup id=\"fn7-ref\"><a href=\"#fn7\">7</a></sup> However, it's estimated that 50% of cancers are detected at an advanced stage when diagnosed.<sup id=\"fn8-ref\"><a href=\"#fn8\">8</a></sup>\n",
    "\n",
    "In the capture of brain tumors, Magnetic Resonance Imaging (MRI) imaging has been shown to be the most effective.<sup id=\"fn9-ref\"><a href=\"#fn9\">9</a></sup> MRI is a medical imaging technique that uses a magnetic field and radio waves to create detailed images of the brain.<sup id=\"fn10-ref\"><a href=\"#fn10\">10</a></sup>\n",
    "\n",
    "An earlier study conducted on MRI images done in 2008 aimed at classifying metastasis from gliomas and identifying high-grade versus low-grade gliomas achieved relatively high classification scores. The study used SVM with recursive feature elimination.<sup id=\"fn11-ref\"><a href=\"#fn11\">11</a></sup>\n",
    "\n",
    "A more recent study compared the performances of multiple Machine Learning models and Deep Learning models on the identification of brain tumors. The study found that CNNs–Convolutional Neural Networks was the most effective method compared to Decision Tree, Linear Discrimination, Naive Bayes, Support Vector Machine, K-nearest neighbour, and Ensemble.<sup id=\"fn12-ref\"><a href=\"#fn12\">12</a></sup>\n",
    "\n",
    "\n",
    "\n",
    "\n",
    "\n",
    "\n",
    "\n",
    "\n"
   ]
  },
  {
   "cell_type": "markdown",
   "metadata": {},
   "source": [
    "# Problem Statement\n",
    "\n",
    "The problem we are evaluating is the issue of accurately detecting, localizing, and classifying human brain tumors through the use of Magnetic Resonance Imaging (MRI) scans. This field of medical imaging is extremely important as inaccurate tumor diagnosis can lead to delayed treatment and fatal consequences. By detecting and classifying tumors early, efficiently, and accurately, machine learning models can help physicians develop and proceed with the most beneficial treatment plans for patients. Currently, radiologists depend on their own subjective interpretation and analysis to detect tumors which may lead to a lack of precision and efficiency, especially due to the complex nature of MRI scans. Because of this, we will propose machine learning solutions to aid with this issue. One possible solution involving deep learning techniques is Convolutional Neural Networks (CNNs), which will deploy a classification system, categorizing the images and allowing them to be assessed further. Another potential solution involves the use of K-means clustering, which will aid in brain tumor segmentation and enable the tumor to be evaluated as cancerous or not. The problem is quantifiable as we will use data preprocessing, feature detection, classification, and other techniques to tackle it. Furthermore, the problem can be measured through metrics such as accuracy, precision, sensitivity, confusion matrices, specificity and more. The replicability of this issue is clear as the prevalence of brain tumors and the difficulty of identifying them accurately and efficiently is evident in the healthcare domain. Through repeated experimentation among more diverse datasets, this problem can be further evaluated and the effectiveness of the solutions presented can be solidified across various populations and variables.\n"
   ]
  },
  {
   "cell_type": "markdown",
   "metadata": {},
   "source": [
    "# Data\n",
    "\n",
    "We are planning on using the following dataset by Kaggle:\n",
    "\n",
    "Brain Tumor MRI Dataset\n",
    "\n",
    "https://www.kaggle.com/datasets/masoudnickparvar/brain-tumor-mri-dataset\n",
    "\n",
    "The dataset has 7022 observations, and because they are in the form of human brain MRI images, there are potentially a huge number of variables and features in each image but we will want to do a PCA and reduce it down to around 10 variables. A single observation in the dataset consists of one human brain MRI image. We would ideally want to single out the variables that are most responsible for separating out different brain conditions so that we can classify the images into 4 classes: glioma - meningioma - no tumor and pituitary. Some variables we may consider as represented in the images are mean pixel values, skewness, kurtosis, features of Grey Level Co-occurrence Matrix (GLCM), mean, variance, energy, entropy, contrast, homogeneity, correlation, prominence and shade. For data cleaning, since the size of the images in this dataset are different, we plan on resizing the image to the desired size after pre-processing and removing the extra margins. We would also test the validity of the extracted features using ANOVA before putting them into classifiers.\n"
   ]
  },
  {
   "cell_type": "markdown",
   "metadata": {},
   "source": [
    "# Proposed Solution\n",
    "\n",
    "Given the nature of this dataset as MRI image data, a computer vision model is necessary to some extent, along with a method for clustering/classifying extracted features. In this scenario, our primary unsupervised method is the PCA algorithm since our dataset contains labels, enabling us to utilize supervised methods such as an SVM, Neural Network, etc. in classification. However, previous studies have explored clustering methods in MRI tumor classification tasks, prompting us to investigate models such as K-Means, DBSCAN, and Spectral Clustering.\n",
    "\n",
    "Our proposed solution involves normalization and general pre-processing of the image data, upon which PCA will be applied to for feature extraction, a process likely implemented using Sklearn. This analysis will enable us to reduce the dimensionality of the feature space and feed the resulting feature vectors into an appropriate clustering/classification model.\n",
    "\n",
    "Prior research suggests K-Means as an effective method for tumor identification in MRI data [13], inspiring our project. While we will recreate a generic K-Means implementation, our goal is to enhance accuracy by incorporating other, more sophisticated algorithms depending on the resulting feature space from the PCA implementation. Included in this prior research is the suggestion of an SVM model for classification which will also be explored. By developing both clustering and classification models, we will be able to create a more comprehensive study into the tumor classification via MRI data and explore adjacent methods which may or may not produce more significant results, particularly in the interpretation of features extracted via PCA and dimensionality reduction.\n",
    "\n",
    "On this point of PCA feature extraction, a crucial aspect of our approach lies in processing MRI data to capture the desired features for clustering/classifying accurately. We intend to incorporate higher-level signal processing into the proposed feature extraction method, although this will be experimented with after the successful development of the above methods. (i.e [14])"
   ]
  },
  {
   "cell_type": "markdown",
   "metadata": {},
   "source": [
    "# Evaluation Metrics\n",
    "\n",
    "In the case of our supervised classification methods, we will utilize the recall score of our model due to the implied severity of a false negative in accurately classifying/detecting a brain tumor and its type. A more significant weight must be applied to our model missing a tumor than accidentally identifying a tumor which isn't there as a positive identification will at least warrant a further look rather than a complete discharge of the patient.\n",
    "\n",
    "$$recall = \\frac{TP}{TP + FN}$$\n",
    "\n",
    "For our unsupervised clustering methods, a metric which may be implemented to accurately assess the performance of our model is the adjusted rand score. This metric quantifies the similarity between the true clustering labels and the clusters identified by the algorithm, while considering chance clustering. It takes into account both the clustering agreement and disagreement, providing a comprehensive assessment of the clustering quality. Through this metric, we are better able to ensure that our clustering algorithm effectively identifies meaningful patterns and structures within the MRI data.\n",
    "\n",
    "$$ \\text{Adjusted Rand Index} = \\frac{{\\text{RI} - \\mathbb{E}[\\text{RI}]}}{{\\max(\\text{RI}) - \\mathbb{E}[\\text{RI}]}} $$\n"
   ]
  },
  {
   "cell_type": "markdown",
   "metadata": {},
   "source": [
    "# Ethics & Privacy"
   ]
  },
  {
   "cell_type": "markdown",
   "metadata": {},
   "source": [
    "In the context of our project using the Brain Tumor MRI dataset, there are several ethical considerations to address. Since our dataset is a combination of three data sources (figshare site, SARTAJ dataset, and Br35H dataset), it's essential to ensure ethical use and interpretation of the data.\n",
    "\n",
    "One ethical concern arises from the potential misclassification of glioma class images in the SARTAJ dataset. This issue was identified through observations from the creators of the dataset and the findings of others. To address this concern, we made the decision to exclude the glioma class images from the SARTAJ dataset and instead utilized images from the figshare site.\n",
    "\n",
    "Additionally, while the dataset is publicly available online and may not directly involve individual privacy concerns, we will still ensure anonymity of the identities of individuals represented in the images and remove any that cause data leakage. \n",
    "\n",
    "To mitigate potential biases, we will carefully examine the data sources and all available images across different classes to ensure representativeness and fairness in our findings. Our aim is to ensure that the dataset remains unbiased and does not target any specific group based on characteristics such as sex, age, or ethnicity.\n",
    "\n",
    "Lastly, in our analysis, we will ensure transparency at every step, clearly documenting our methodology. Also, we will acknowledge potential limitations and actively address any biases in our model selection process.\n"
   ]
  },
  {
   "cell_type": "markdown",
   "metadata": {},
   "source": [
    "# Team Expectations "
   ]
  },
  {
   "cell_type": "markdown",
   "metadata": {},
   "source": [
    "* Clear, consistent, honest communication\n",
    "* Everyone works on their assigned sections of the project\n",
    "* All group members meet deadlines set for their section\n",
    "* If someone needs to miss a meeting they inform everyone ahead of time\n",
    "* Team members should inform others if any changes are made in the codebase\n",
    "* Any issues are addressed between members and are brought up to the group if they cannot be resolved"
   ]
  },
  {
   "cell_type": "markdown",
   "metadata": {},
   "source": [
    "# Project Timeline Proposal"
   ]
  },
  {
   "cell_type": "markdown",
   "metadata": {},
   "source": [
    "\n",
    "\n",
    "| Meeting Date  | Meeting Time| Completed Before Meeting  | Discuss at Meeting |\n",
    "|---|---|---|---|\n",
    "| 2/18  |  9 PM |  Brainstorm topics/questions, looking for datasets | Communicate about meeting schedule, Decide on final project topic; begin background research |\n",
    "| 2/20  |  9 PM | background research on topic, decide datasets  | Finish project proposal |\n",
    "| 2/27  | 9 PM  | Try data wrangling and EDA  | Discuss wrangling and possible analytical approaches; model selections |\n",
    "| 3/5  | 6 PM  | Finish wrangling and EDA | Decide models for analysis |\n",
    "| 3/10  | 8 PM  | Implement different models; make graphs | Discuss code/debugging; evaluate model performance |\n",
    "| 3/16  | 8 PM  | Select plots for the analysis; Decide the best model; Draft results/conclusion/discussion | check methodology and discuss about the conclusion |\n",
    "| 3/19  | Before 11:59 PM  | Final check | Turn in Final Project  |\n"
   ]
  },
  {
   "cell_type": "markdown",
   "metadata": {},
   "source": [
    "# Footnotes\n",
    "\n",
    "\n",
    "<sup id=\"fn1\">1</sup>: “Brain Basics: Know Your Brain.” National Institute of Neurological Disorders and Stroke. <a href=\"https://www.ninds.nih.gov/health-information/public-education/brain-basics/brain-basics-know-your-brain\">https://www.ninds.nih.gov/health-information/public-education/brain-basics/brain-basics-know-your-brain</a>.\n",
    "\n",
    "<sup id=\"fn2\">2</sup>: “Brain Tumor: Symptoms, Signs & Causes.” Cleveland Clinic. <a href=\"https://my.clevelandclinic.org/health/diseases/6149-brain-cancer-brain-tumor\">https://my.clevelandclinic.org/health/diseases/6149-brain-cancer-brain-tumor</a>.\n",
    "\n",
    "<sup id=\"fn3\">3</sup>: “Key Statistics for Brain and Spinal Cord Tumors.” American Cancer Society. <a href=\"https://www.cancer.org/cancer/types/brain-spinal-cord-tumors-adults/about/key-statistics.html\">https://www.cancer.org/cancer/types/brain-spinal-cord-tumors-adults/about/key-statistics.html</a>.\n",
    "\n",
    "<sup id=\"fn4\">4</sup>: “Cancer of the Brain and Other Nervous System - Cancer Stat Facts.” SEER. <a href=\"https://seer.cancer.gov/statfacts/html/brain.html\">https://seer.cancer.gov/statfacts/html/brain.html</a>.\n",
    "\n",
    "<sup id=\"fn5\">5</sup>: Tabouret, Emeline, Olivier Chinot, Philippe Metellus, Agnès Tallet, Patrice Viens, and Anthony Gonçalves. “Recent Trends in Epidemiology of Brain Metastases: An Overview.” Anticancer research, November 2012. <a href=\"https://www.ncbi.nlm.nih.gov/pubmed/23155227\">https://www.ncbi.nlm.nih.gov/pubmed/23155227</a>.\n",
    "\n",
    "<sup id=\"fn6\">6</sup>: \"Cancer control in low- and middle-income countries: Is it time...\" <a href=\"https://ascopubs.org/doi/10.1200/JGO.18.00200\">https://ascopubs.org/doi/10.1200/JGO.18.00200</a>.\n",
    "\n",
    "<sup id=\"fn7\">7</sup>: Birtwistle, Mike. “Saving Lives and Averting Costs? The Case for Earlier Diagnosis Just Got Stronger.” Cancer Research UK - Cancer News, April 12, 2021. <a href=\"https://news.cancerresearchuk.org/2014/09/22/saving-lives-and-averting-costs-the-case-for-earlier-diagnosis-just-got-stronger/\">https://news.cancerresearchuk.org/2014/09/22/saving-lives-and-averting-costs-the-case-for-earlier-diagnosis-just-got-stronger/</a>.\n",
    "\n",
    "<sup id=\"fn8\">8</sup>: Crosby D, Bhatia S, Brindle KM, Coussens LM, Dive C, Emberton M, Esener S, Fitzgerald RC, Gambhir SS, Kuhn P, Rebbeck TR, Balasubramanian S. “Early Detection of Cancer.” Science (New York, N.Y.). Accessed February 20, 2024. <a href=\"https://pubmed.ncbi.nlm.nih.gov/35298272/\">https://pubmed.ncbi.nlm.nih.gov/35298272/</a>.\n",
    "\n",
    "<sup id=\"fn9\">9</sup>: Ytre‐Hauge, Sigmund, Julie A. Dybvik, Arvid Lundervold, Øyvind O. Salvesen, Camilla Krakstad, Kristine E. Fasmer, Henrica M. Werner, et al. “Preoperative Tumor Texture Analysis on MRI Predicts High‐risk Disease and Reduced Survival in Endometrial Cancer.” Journal of Magnetic Resonance Imaging 48, no. 6 (August 13, 2018): 1637–47. <a href=\"https://doi.org/10.1002/jmri.26184\">https://doi.org/10.1002/jmri.26184</a>.\n",
    "\n",
    "<sup id=\"fn10\">10</sup>: \"MRI.\" Mayo Clinic. <a href=\"https://www.mayoclinic.org/tests-procedures/mri/about/pac-20384768\">https://www.mayoclinic.org/tests-procedures/mri/about/pac-20384768</a>.\n",
    "\n",
    "<sup id=\"fn11\">11</sup>: Zacharaki, Evangelia I., Sumei Wang, Sanjeev Chawla, Dong Soo Yoo, Ronald Wolf, Elias R. Melhem, and Christos Davatzikos. “Classification of Brain Tumor Type and Grade Using MRI Texture and Shape in a Machine Learning Scheme.” Magnetic Resonance in Medicine 62, no. 6 (October 26, 2009): 1609–18. <a href=\"https://doi.org/10.1002/mrm.22147\">https://doi.org/10.1002/mrm.22147</a>.\n",
    "\n",
    "<sup id=\"fn12\">12</sup>: Tandel, Gopal S., Antonella Balestrieri, Tanay Jujaray, Narender N. Khanna, Luca Saba, and Jasjit S. Suri. “Multiclass Magnetic Resonance Imaging Brain Tumor Classification Using Artificial Intelligence Paradigm.” Computers in Biology and Medicine 122 (July 2020): 103804. <a href=\"https://doi.org/10.1016/j.compbiomed.2020.103804\">https://doi.org/10.1016/j.compbiomed.2020.103804</a>."
   ]
  }
 ],
 "metadata": {
  "kernelspec": {
   "display_name": "Python 3 (ipykernel)",
   "language": "python",
   "name": "python3"
  },
  "language_info": {
   "codemirror_mode": {
    "name": "ipython",
    "version": 3
   },
   "file_extension": ".py",
   "mimetype": "text/x-python",
   "name": "python",
   "nbconvert_exporter": "python",
   "pygments_lexer": "ipython3",
   "version": "3.10.0"
  }
 },
 "nbformat": 4,
 "nbformat_minor": 2
}
