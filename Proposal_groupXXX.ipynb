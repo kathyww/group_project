{
 "cells": [
  {
   "cell_type": "markdown",
   "metadata": {},
   "source": [
    "# COGS 118B - Project Proposal"
   ]
  },
  {
   "cell_type": "markdown",
   "metadata": {},
   "source": [
    "# Project Description\n",
    "\n",
    "You will design and execute a machine learning project. There are a few constraints on the nature of the allowed project. \n",
    "- The problem addressed will not be a \"toy problem\" or \"common training students problem\" like mtcars, iris, palmer penguins etc.\n",
    "- The dataset will have >1k observations and >5 variables. I'd prefer more like >10k observations and >10 variables. A general rule is that if you have >100x more observations than variables, your solution will likely generalize a lot better. The goal of training an unsupervised machine learning model is to learn the underlying pattern in a dataset in order to generalize well to unseen data, so choosing a large dataset is very important.\n",
    "\n",
    "- The project must include some elements of unsupervised learning, but you are welcome to include some supervised or other learning approaches as well.\n",
    "- The project will include a model selection and/or feature selection component where you will be looking for the best setup to maximize the performance of your ML system.\n",
    "- You will evaluate the performance of your ML system using more than one appropriate metric\n",
    "- You will be writing a report describing and discussing these accomplishments\n",
    "\n",
    "\n",
    "Feel free to delete this description section when you hand in your proposal."
   ]
  },
  {
   "cell_type": "markdown",
   "metadata": {},
   "source": [
    "# Names\n",
    "\n",
    "Hopefully your team is at least this good. Obviously you should replace these with your names.\n",
    "\n",
    "- Yifan Lou\n",
    "- Jacob Lamadrid\n",
    "- Brandon Chu\n",
    "- Anvita Suresh\n",
    "- Kathy Wen"
   ]
  },
  {
   "cell_type": "markdown",
   "metadata": {},
   "source": [
    "# Abstract \n",
    "This section should be short and clearly stated. It should be a single paragraph <200 words.  It should summarize: \n",
    "- what your goal/problem is\n",
    "- what the data used represents and how they are measured\n",
    "- what you will be doing with the data\n",
    "- how performance/success will be measured"
   ]
  },
  {
   "cell_type": "markdown",
   "metadata": {},
   "source": [
    "# Background\n",
    "\n",
    "The Central Nervous System (CNS) consists of the brain and spinal cord. It serves as the main processing center for the entire body, playing a part in most biological functions. It regulates conscious thought, as well as unconscious processes such as heart rate, breathing and blood pressure.[^1] \n",
    "\n",
    "CNS tumors describe an abnormal growth or mass of cells in the brain or spinal cord. They develop when the DNA in some cells change, giving harmful instructions to divide, leading to a buildup. These tumors can be classified as malignant–or harmful, and benign–or harmless.[^2] \n",
    "\n",
    "Brain and spinal cord cancer represents a significant public health concern, accounting for nearly 18,760 deaths in 2023.[^3] While only the 16th most common form of cancer[^4], 40% of metastatic cancer transforms into brain cancer.[^5] This situation is exacerbated in low and middle-income countries (LMICs) where cancer-related mortality is significantly higher–especially in people younger than 65 years of age.[^6] Early detection of cancer has shown to significantly improve survival rate, as well as drastically reduce treatment costs.[^7] However, it's estimated that 50% of cancers are detected at an advanced stage when diagnosed.[^8]\n",
    "\n",
    "In the capture of brain tumors, Magnetic Resonance Imaging (MRI) imaging has been shown to be the most effective.[^9] MRI is a medical imaging technique that uses a magnetic field and radio waves to create detailed images of the brain.[^10]\n",
    "\n",
    "An earlier study conducted on MRI images done in 2008 aimed at classifying metastasis from gliomas and identifying high-grade versus low-grade gliomas achieved relatively high classification scores. The study used SVM with recursive feature elimination. [^11]\n",
    "\n",
    "A more recent study compared the performances of multiple Machine Learning models and Deep Learning models on the identification of brain tumors. The study found that CNNs–Convolutional Neural Networks was the most effective method compared to Decision Tree, Linear Discrimination, Naive Bayes, Support Vector Machine, K-nearest neighbour, and Ensemble.[^12]\n",
    "\n"
   ]
  },
  {
   "cell_type": "markdown",
   "metadata": {},
   "source": [
    "# Problem Statement\n",
    "\n",
    "Clearly describe the problem that you are solving. Avoid ambiguous words. The problem described should be well defined and should have at least one ML-relevant potential solution. Additionally, describe the problem thoroughly such that it is clear that the problem is quantifiable (the problem can be expressed in mathematical or logical terms), measurable (the problem can be measured by some metric and clearly observed), and replicable (the problem can be reproduced and occurs more than once)."
   ]
  },
  {
   "cell_type": "markdown",
   "metadata": {},
   "source": [
    "# Data\n",
    "\n",
    "You should have a strong idea of what dataset(s) will be used to accomplish this project. \n",
    "\n",
    "If you know what (some) of the data you will use, please give the following information for each dataset:\n",
    "- link/reference to obtain it\n",
    "\n",
    "Brain Tumor MRI Dataset\n",
    "\n",
    "https://www.kaggle.com/datasets/masoudnickparvar/brain-tumor-mri-dataset\n",
    "\n",
    "- description of the size of the dataset (# of variables, # of observations)\n",
    "\n",
    "7022 observations, \n",
    "\n",
    "- what an observation consists of\n",
    "\n",
    "An observation consists of one human brain MRI image.\n",
    "\n",
    "\n",
    "- what some critical variables are, how they are represented\n",
    "- any special handling, transformations, cleaning, etc will be needed\n",
    "\n",
    "The size of the images in this dataset is different. We can resize the image to the desired size after pre-processing and removing the extra margins.\n",
    "\n",
    "If you don't yet know what your dataset(s) will be, you should describe what you desire in terms of the above bullets."
   ]
  },
  {
   "cell_type": "markdown",
   "metadata": {},
   "source": [
    "# Proposed Solution\n",
    "\n",
    "In this section, clearly describe a solution to the problem. The solution should be applicable to the project domain and appropriate for the dataset(s) or input(s) given. Provide enough detail (e.g., algorithmic description and/or theoretical properties) to convince us that your solution is applicable. Why might your solution work? Make sure to describe how the solution will be tested.  \n",
    "\n",
    "If you know details already, describe how (e.g., library used, function calls) you plan to implement the solution in a way that is reproducible.\n",
    "\n",
    "If it is appropriate to the problem statement, describe a benchmark model<a name=\"sota\"></a>[<sup>[3]</sup>](#sotanote) against which your solution will be compared. "
   ]
  },
  {
   "cell_type": "markdown",
   "metadata": {},
   "source": [
    "# Evaluation Metrics\n",
    "\n",
    "Propose at least one evaluation metric that can be used to quantify the performance of both the benchmark model and the solution model. The evaluation metric(s) you propose should be appropriate given the context of the data, the problem statement, and the intended solution. Describe how the evaluation metric(s) are derived and provide an example of their mathematical representations (if applicable). Complex evaluation metrics should be clearly defined and quantifiable (can be expressed in mathematical or logical terms)."
   ]
  },
  {
   "cell_type": "markdown",
   "metadata": {},
   "source": [
    "# Ethics & Privacy"
   ]
  },
  {
   "cell_type": "markdown",
   "metadata": {},
   "source": [
    "If your project has obvious potential concerns with ethics or data privacy discuss that here.  Almost every ML project put into production can have ethical implications if you use your imagination. Use your imagination. Get creative!\n",
    "\n",
    "Even if you can't come up with an obvious ethical concern that should be addressed, you should know that a large number of ML projects that go into producation have unintended consequences and ethical problems once in production. How will your team address these issues?\n",
    "\n",
    "Consider a tool to help you address the potential issues such as https://deon.drivendata.org"
   ]
  },
  {
   "cell_type": "markdown",
   "metadata": {},
   "source": [
    "# Team Expectations "
   ]
  },
  {
   "cell_type": "markdown",
   "metadata": {},
   "source": [
    "Put things here that cement how you will interact/communicate as a team, how you will handle conflict and difficulty, how you will handle making decisions and setting goals/schedule, how much work you expect from each other, how you will handle deadlines, etc...\n",
    "* Clear, consistent, honest communication\n",
    "* Everyone works on their assigned sections of the project\n",
    "* All group members meet deadlines set for their section\n",
    "* If someone needs to miss a meeting they inform everyone ahead of time\n",
    "* Team members should inform others if any changes are made in the codebase\n",
    "* Any issues are addressed between members and are brought up to the group if they cannot be resolved"
   ]
  },
  {
   "cell_type": "markdown",
   "metadata": {},
   "source": [
    "# Project Timeline Proposal"
   ]
  },
  {
   "cell_type": "markdown",
   "metadata": {},
   "source": [
    "Replace this with something meaningful that is appropriate for your needs. It doesn't have to be something that fits this format.  It doesn't have to be set in stone... \"no battle plan survives contact with the enemy\". But you need a battle plan nonetheless, and you need to keep it updated so you understand what you are trying to accomplish, who's responsible for what, and what the expected due dates are for each item.\n",
    "\n",
    "| Meeting Date  | Meeting Time| Completed Before Meeting  | Discuss at Meeting |\n",
    "|---|---|---|---|\n",
    "| 1/20  |  1 PM |  Brainstorm topics/questions (all)  | Determine best form of communication; Discuss and decide on final project topic; discuss hypothesis; begin background research | \n",
    "| 1/26  |  10 AM |  Do background research on topic (Pelé) | Discuss ideal dataset(s) and ethics; draft project proposal | \n",
    "| 2/1  | 10 AM  | Edit, finalize, and submit proposal; Search for datasets (Beckenbaur)  | Discuss Wrangling and possible analytical approaches; Assign group members to lead each specific part   |\n",
    "| 2/14  | 6 PM  | Import & Wrangle Data ,do some EDA (Maradonna) | Review/Edit wrangling/EDA; Discuss Analysis Plan   |\n",
    "| 2/23  | 12 PM  | Finalize wrangling/EDA; Begin programming for project (Cruyff) | Discuss/edit project code; Complete project |\n",
    "| 3/13  | 12 PM  | Complete analysis; Draft results/conclusion/discussion (Carlos)| Discuss/edit full project |\n",
    "| 3/19  | Before 11:59 PM  | NA | Turn in Final Project  |"
   ]
  },
  {
   "cell_type": "markdown",
   "metadata": {},
   "source": [
    "# Footnotes\n",
    "\n",
    "[^1] “Brain Basics: Know Your Brain.” National Institute of Neurological Disorders and Stroke. https://www.ninds.nih.gov/health-information/public-education/brain-basics/brain-basics-know-your-brain. \n",
    "\n",
    "[^2] “Brain Tumor: Symptoms, Signs & Causes.” Cleveland Clinic. https://my.clevelandclinic.org/health/diseases/6149-brain-cancer-brain-tumor. \n",
    "\n",
    "[^3] “Key Statistics for Brain and Spinal Cord Tumors.” American Cancer Society. https://www.cancer.org/cancer/types/brain-spinal-cord-tumors-adults/about/key-statistics.html. \n",
    "\n",
    "[^4] “Cancer of the Brain and Other Nervous System - Cancer Stat Facts.” SEER. https://seer.cancer.gov/statfacts/html/brain.html. \n",
    "\n",
    "[^5] Tabouret, Emeline, Olivier Chinot, Philippe Metellus, Agnès Tallet, Patrice Viens, and Anthony Gonçalves. “Recent Trends in Epidemiology of Brain Metastases: An Overview.” Anticancer research, November 2012. https://www.ncbi.nlm.nih.gov/pubmed/23155227. \n",
    "\n",
    "[^6] \"Cancer control in low- and middle-income countries: Is it time...\" https://ascopubs.org/doi/10.1200/JGO.18.00200. \n",
    "\n",
    "[^7] Birtwistle, Mike. “Saving Lives and Averting Costs? The Case for Earlier Diagnosis Just Got Stronger.” Cancer Research UK - Cancer News, April 12, 2021. https://news.cancerresearchuk.org/2014/09/22/saving-lives-and-averting-costs-the-case-for-earlier-diagnosis-just-got-stronger/. \n",
    "\n",
    "[^8] Crosby D, Bhatia S, Brindle KM, Coussens LM, Dive C, Emberton M, Esener S, Fitzgerald RC, Gambhir SS, Kuhn P, Rebbeck TR, Balasubramanian S. “Early Detection of Cancer.” Science (New York, N.Y.). Accessed February 20, 2024. https://pubmed.ncbi.nlm.nih.gov/35298272/. \n",
    "\n",
    "[^9] Ytre‐Hauge, Sigmund, Julie A. Dybvik, Arvid Lundervold, Øyvind O. Salvesen, Camilla Krakstad, Kristine E. Fasmer, Henrica M. Werner, et al. “Preoperative Tumor Texture Analysis on MRI Predicts High‐risk Disease and Reduced Survival in Endometrial Cancer.” Journal of Magnetic Resonance Imaging 48, no. 6 (August 13, 2018): 1637–47. https://doi.org/10.1002/jmri.26184. \n",
    "\n",
    "[^10] \"MRI.\" Mayo Clinic. https://www.mayoclinic.org/tests-procedures/mri/about/pac-20384768.\n",
    "\n",
    "[^11] Zacharaki, Evangelia I., Sumei Wang, Sanjeev Chawla, Dong Soo Yoo, Ronald Wolf, Elias R. Melhem, and Christos Davatzikos. “Classification of Brain Tumor Type and Grade Using MRI Texture and Shape in a Machine Learning Scheme.” Magnetic Resonance in Medicine 62, no. 6 (October 26, 2009): 1609–18. https://doi.org/10.1002/mrm.22147. \n",
    "\n",
    "[^12] Tandel, Gopal S., Antonella Balestrieri, Tanay Jujaray, Narender N. Khanna, Luca Saba, and Jasjit S. Suri. “Multiclass Magnetic Resonance Imaging Brain Tumor Classification Using Artificial Intelligence Paradigm.” Computers in Biology and Medicine 122 (July 2020): 103804. https://doi.org/10.1016/j.compbiomed.2020.103804. \n"
   ]
  },
  {
   "cell_type": "code",
   "execution_count": null,
   "metadata": {},
   "outputs": [],
   "source": []
  }
 ],
 "metadata": {
  "kernelspec": {
   "display_name": "Python 3 (ipykernel)",
   "language": "python",
   "name": "python3"
  },
  "language_info": {
   "codemirror_mode": {
    "name": "ipython",
    "version": 3
   },
   "file_extension": ".py",
   "mimetype": "text/x-python",
   "name": "python",
   "nbconvert_exporter": "python",
   "pygments_lexer": "ipython3",
   "version": "3.10.0"
  }
 },
 "nbformat": 4,
 "nbformat_minor": 2
}
