{
 "cells": [
  {
   "cell_type": "markdown",
   "metadata": {},
   "source": [
    "# COGS 118B - Project Proposal"
   ]
  },
  {
   "cell_type": "markdown",
   "metadata": {},
   "source": [
    "# Project Description\n",
    "\n",
    "You will design and execute a machine learning project. There are a few constraints on the nature of the allowed project. \n",
    "- The problem addressed will not be a \"toy problem\" or \"common training students problem\" like mtcars, iris, palmer penguins etc.\n",
    "- The dataset will have >1k observations and >5 variables. I'd prefer more like >10k observations and >10 variables. A general rule is that if you have >100x more observations than variables, your solution will likely generalize a lot better. The goal of training an unsupervised machine learning model is to learn the underlying pattern in a dataset in order to generalize well to unseen data, so choosing a large dataset is very important.\n",
    "\n",
    "- The project must include some elements of unsupervised learning, but you are welcome to include some supervised or other learning approaches as well.\n",
    "- The project will include a model selection and/or feature selection component where you will be looking for the best setup to maximize the performance of your ML system.\n",
    "- You will evaluate the performance of your ML system using more than one appropriate metric\n",
    "- You will be writing a report describing and discussing these accomplishments\n",
    "\n",
    "\n",
    "Feel free to delete this description section when you hand in your proposal."
   ]
  },
  {
   "cell_type": "markdown",
   "metadata": {},
   "source": [
    "# Names\n",
    "\n",
    "Hopefully your team is at least this good. Obviously you should replace these with your names.\n",
    "\n",
    "- Yifan Lou\n",
    "- Jacob Lamadrid\n",
    "- Brandon Chu\n",
    "- Anvita Suresh\n",
    "- Kathy Wen"
   ]
  },
  {
   "cell_type": "markdown",
   "metadata": {},
   "source": [
    "# Abstract \n",
    "The project we are conducting will involve the application of deep learning techniques to Magnetic Resonance Imaging (MRI) data in order to address the task of detecting and classifying brain tumors. We are using a Brain Tumor MRI Dataset from Kaggle that consists of 7023 images of MRI images which are classified into four classes: glioma, meningioma, no tumor and pituitary. Leveraging this data, we aim to display proper brain tumor diagnosis by detecting the tumor and classifying it based on grade, type, malignancy, and location. In order to do this, we will deploy various deep learning techniques to effectively and accurately develop solutions to this problem. We will measure performance through the accuracy of the model in tumor detection, localization, and classification. Based on the success of our model, we will have aided in ongoing efforts to provide impactful solutions and improve health diagnoses in the domain of tumor detection."
   ]
  },
  {
   "cell_type": "markdown",
   "metadata": {},
   "source": [
    "# Background\n",
    "\n",
    "The Central Nervous System (CNS) consists of the brain and spinal cord. It serves as the main processing center for the entire body, playing a part in most biological functions. It regulates conscious thought, as well as unconscious processes such as heart rate, breathing and blood pressure.[^1] \n",
    "\n",
    "CNS tumors describe an abnormal growth or mass of cells in the brain or spinal cord. They develop when the DNA in some cells change, giving harmful instructions to divide, leading to a buildup. These tumors can be classified as malignant–or harmful, and benign–or harmless.[^2] \n",
    "\n",
    "Brain and spinal cord cancer represents a significant public health concern, accounting for nearly 18,760 deaths in 2023.[^3] While only the 16th most common form of cancer[^4], 40% of metastatic cancer transforms into brain cancer.[^5] This situation is exacerbated in low and middle-income countries (LMICs) where cancer-related mortality is significantly higher–especially in people younger than 65 years of age.[^6] Early detection of cancer has shown to significantly improve survival rate, as well as drastically reduce treatment costs.[^7] However, it's estimated that 50% of cancers are detected at an advanced stage when diagnosed.[^8]\n",
    "\n",
    "In the capture of brain tumors, Magnetic Resonance Imaging (MRI) imaging has been shown to be the most effective.[^9] MRI is a medical imaging technique that uses a magnetic field and radio waves to create detailed images of the brain.[^10]\n",
    "\n",
    "An earlier study conducted on MRI images done in 2008 aimed at classifying metastasis from gliomas and identifying high-grade versus low-grade gliomas achieved relatively high classification scores. The study used SVM with recursive feature elimination. [^11]\n",
    "\n",
    "A more recent study compared the performances of multiple Machine Learning models and Deep Learning models on the identification of brain tumors. The study found that CNNs–Convolutional Neural Networks was the most effective method compared to Decision Tree, Linear Discrimination, Naive Bayes, Support Vector Machine, K-nearest neighbour, and Ensemble.[^12]\n",
    "\n"
   ]
  },
  {
   "cell_type": "markdown",
   "metadata": {},
   "source": [
    "# Problem Statement\n",
    "\n",
    "The problem we are evaluating is the issue of accurately detecting, localizing, and classifying human brain tumors through the use of Magnetic Resonance Imaging (MRI) scans. This field of medical imaging is extremely important as inaccurate tumor diagnosis can lead to delayed treatment and fatal consequences. By detecting and classifying tumors early, efficiently, and accurately, machine learning models can help physicians develop and proceed with the most beneficial treatment plans for patients. Currently, radiologists depend on their own subjective interpretation and analysis to detect tumors which may lead to a lack of precision and efficiency, especially due to the complex nature of MRI scans. Because of this, we will propose machine learning solutions to aid with this issue. One possible solution involving deep learning techniques is Convolutional Neural Networks (CNNs), which will deploy a classification system, categorizing the images and allowing them to be assessed further. Another potential solution involves the use of K-means clustering, which will aid in brain tumor segmentation and enable the tumor to be evaluated as cancerous or not. The problem is quantifiable as we will use data preprocessing, feature detection, classification, and other techniques to tackle it. Furthermore, the problem can be measured through metrics such as accuracy, precision, sensitivity, confusion matrices, specificity and more. The replicability of this issue is clear as the prevalence of brain tumors and the difficulty of identifying them accurately and efficiently is evident in the healthcare domain. Through repeated experimentation among more diverse datasets, this problem can be further evaluated and the effectiveness of the solutions presented can be solidified across various populations and variables.\n"
   ]
  },
  {
   "cell_type": "markdown",
   "metadata": {},
   "source": [
    "# Data\n",
    "\n",
    "You should have a strong idea of what dataset(s) will be used to accomplish this project. \n",
    "\n",
    "If you know what (some) of the data you will use, please give the following information for each dataset:\n",
    "- link/reference to obtain it\n",
    "\n",
    "Brain Tumor MRI Dataset\n",
    "\n",
    "https://www.kaggle.com/datasets/masoudnickparvar/brain-tumor-mri-dataset\n",
    "\n",
    "- description of the size of the dataset (# of variables, # of observations)\n",
    "\n",
    "7022 observations, \n",
    "\n",
    "- what an observation consists of\n",
    "\n",
    "An observation consists of one human brain MRI image.\n",
    "\n",
    "\n",
    "- what some critical variables are, how they are represented\n",
    "- any special handling, transformations, cleaning, etc will be needed\n",
    "\n",
    "The size of the images in this dataset is different. We can resize the image to the desired size after pre-processing and removing the extra margins.\n",
    "\n",
    "If you don't yet know what your dataset(s) will be, you should describe what you desire in terms of the above bullets."
   ]
  },
  {
   "cell_type": "markdown",
   "metadata": {},
   "source": [
    "# Proposed Solution\n",
    "\n",
    "Given the nature of this dataset as MRI image data, we require to some degree a computer vision model, as well as a method of clustering extracted features. Likely candidates of our unsupervised clustering model include K-Means, DBSCAN and Spectral Clustering.\n",
    "\n",
    "Our proposed solution involves the normalization of our image data and then processing of our images via PCA for the purpose of feature extraction. This will likely be implemented using Sklearn. From this analysis we can then reduce the dimensionality of the feature space and pass the resulting feature vectors to an appropriate clustering/classification model.\n",
    "\n",
    "Adjacent research in classifying MRI data proposes K-Means as an effective method of tumor identification [13] from which we will draw inspiration from in our project. We will recreate this generic K-Means implementation, but will aim to improve on the \"accuracy\" by implementing other, more complex algorithms dependent on the resulting feature space of the above PCA implementation. We are aiming to explore clustering algorithms due to the \"unsupervised\" topic of this course, but we will also explore supervised methods such as an SVM, CNN, etc. as previously mentioned in our background.\n",
    "\n",
    "A key component of our method is in the processing of the MRI data in order to properly encapsulate our desired features for our clustering. We aim to include higher level signal processing in the proposed method of feature extraction, but due to the scope of the course, this idea will be experimented upon after our successful development of the above proposed method. (i.e [14])"
   ]
  },
  {
   "cell_type": "markdown",
   "metadata": {},
   "source": [
    "# Evaluation Metrics\n",
    "\n",
    "Propose at least one evaluation metric that can be used to quantify the performance of both the benchmark model and the solution model. The evaluation metric(s) you propose should be appropriate given the context of the data, the problem statement, and the intended solution. Describe how the evaluation metric(s) are derived and provide an example of their mathematical representations (if applicable). Complex evaluation metrics should be clearly defined and quantifiable (can be expressed in mathematical or logical terms)."
   ]
  },
  {
   "cell_type": "markdown",
   "metadata": {},
   "source": [
    "# Ethics & Privacy"
   ]
  },
  {
   "cell_type": "markdown",
   "metadata": {},
   "source": [
    "If your project has obvious potential concerns with ethics or data privacy discuss that here.  Almost every ML project put into production can have ethical implications if you use your imagination. Use your imagination. Get creative!\n",
    "\n",
    "Even if you can't come up with an obvious ethical concern that should be addressed, you should know that a large number of ML projects that go into producation have unintended consequences and ethical problems once in production. How will your team address these issues?\n",
    "\n",
    "Consider a tool to help you address the potential issues such as https://deon.drivendata.org"
   ]
  },
  {
   "cell_type": "markdown",
   "metadata": {},
   "source": [
    "# Team Expectations "
   ]
  },
  {
   "cell_type": "markdown",
   "metadata": {},
   "source": [
    "Put things here that cement how you will interact/communicate as a team, how you will handle conflict and difficulty, how you will handle making decisions and setting goals/schedule, how much work you expect from each other, how you will handle deadlines, etc...\n",
    "* Clear, consistent, honest communication\n",
    "* Everyone works on their assigned sections of the project\n",
    "* All group members meet deadlines set for their section\n",
    "* If someone needs to miss a meeting they inform everyone ahead of time\n",
    "* Team members should inform others if any changes are made in the codebase\n",
    "* Any issues are addressed between members and are brought up to the group if they cannot be resolved"
   ]
  },
  {
   "cell_type": "markdown",
   "metadata": {},
   "source": [
    "# Project Timeline Proposal"
   ]
  },
  {
   "cell_type": "markdown",
   "metadata": {},
   "source": [
    "Replace this with something meaningful that is appropriate for your needs. It doesn't have to be something that fits this format.  It doesn't have to be set in stone... \"no battle plan survives contact with the enemy\". But you need a battle plan nonetheless, and you need to keep it updated so you understand what you are trying to accomplish, who's responsible for what, and what the expected due dates are for each item.\n",
    "\n",
    "| Meeting Date  | Meeting Time| Completed Before Meeting  | Discuss at Meeting |\n",
    "|---|---|---|---|\n",
    "| 1/20  |  1 PM |  Brainstorm topics/questions (all)  | Determine best form of communication; Discuss and decide on final project topic; discuss hypothesis; begin background research | \n",
    "| 1/26  |  10 AM |  Do background research on topic (Pelé) | Discuss ideal dataset(s) and ethics; draft project proposal | \n",
    "| 2/1  | 10 AM  | Edit, finalize, and submit proposal; Search for datasets (Beckenbaur)  | Discuss Wrangling and possible analytical approaches; Assign group members to lead each specific part   |\n",
    "| 2/14  | 6 PM  | Import & Wrangle Data ,do some EDA (Maradonna) | Review/Edit wrangling/EDA; Discuss Analysis Plan   |\n",
    "| 2/23  | 12 PM  | Finalize wrangling/EDA; Begin programming for project (Cruyff) | Discuss/edit project code; Complete project |\n",
    "| 3/13  | 12 PM  | Complete analysis; Draft results/conclusion/discussion (Carlos)| Discuss/edit full project |\n",
    "| 3/19  | Before 11:59 PM  | NA | Turn in Final Project  |"
   ]
  },
  {
   "cell_type": "markdown",
   "metadata": {},
   "source": [
    "# Footnotes\n",
    "\n",
    "[^1] “Brain Basics: Know Your Brain.” National Institute of Neurological Disorders and Stroke. https://www.ninds.nih.gov/health-information/public-education/brain-basics/brain-basics-know-your-brain. \n",
    "\n",
    "[^2] “Brain Tumor: Symptoms, Signs & Causes.” Cleveland Clinic. https://my.clevelandclinic.org/health/diseases/6149-brain-cancer-brain-tumor. \n",
    "\n",
    "[^3] “Key Statistics for Brain and Spinal Cord Tumors.” American Cancer Society. https://www.cancer.org/cancer/types/brain-spinal-cord-tumors-adults/about/key-statistics.html. \n",
    "\n",
    "[^4] “Cancer of the Brain and Other Nervous System - Cancer Stat Facts.” SEER. https://seer.cancer.gov/statfacts/html/brain.html. \n",
    "\n",
    "[^5] Tabouret, Emeline, Olivier Chinot, Philippe Metellus, Agnès Tallet, Patrice Viens, and Anthony Gonçalves. “Recent Trends in Epidemiology of Brain Metastases: An Overview.” Anticancer research, November 2012. https://www.ncbi.nlm.nih.gov/pubmed/23155227. \n",
    "\n",
    "[^6] \"Cancer control in low- and middle-income countries: Is it time...\" https://ascopubs.org/doi/10.1200/JGO.18.00200. \n",
    "\n",
    "[^7] Birtwistle, Mike. “Saving Lives and Averting Costs? The Case for Earlier Diagnosis Just Got Stronger.” Cancer Research UK - Cancer News, April 12, 2021. https://news.cancerresearchuk.org/2014/09/22/saving-lives-and-averting-costs-the-case-for-earlier-diagnosis-just-got-stronger/. \n",
    "\n",
    "[^8] Crosby D, Bhatia S, Brindle KM, Coussens LM, Dive C, Emberton M, Esener S, Fitzgerald RC, Gambhir SS, Kuhn P, Rebbeck TR, Balasubramanian S. “Early Detection of Cancer.” Science (New York, N.Y.). Accessed February 20, 2024. https://pubmed.ncbi.nlm.nih.gov/35298272/. \n",
    "\n",
    "[^9] Ytre‐Hauge, Sigmund, Julie A. Dybvik, Arvid Lundervold, Øyvind O. Salvesen, Camilla Krakstad, Kristine E. Fasmer, Henrica M. Werner, et al. “Preoperative Tumor Texture Analysis on MRI Predicts High‐risk Disease and Reduced Survival in Endometrial Cancer.” Journal of Magnetic Resonance Imaging 48, no. 6 (August 13, 2018): 1637–47. https://doi.org/10.1002/jmri.26184. \n",
    "\n",
    "[^10] \"MRI.\" Mayo Clinic. https://www.mayoclinic.org/tests-procedures/mri/about/pac-20384768.\n",
    "\n",
    "[^11] Zacharaki, Evangelia I., Sumei Wang, Sanjeev Chawla, Dong Soo Yoo, Ronald Wolf, Elias R. Melhem, and Christos Davatzikos. “Classification of Brain Tumor Type and Grade Using MRI Texture and Shape in a Machine Learning Scheme.” Magnetic Resonance in Medicine 62, no. 6 (October 26, 2009): 1609–18. https://doi.org/10.1002/mrm.22147. \n",
    "\n",
    "[^12] Tandel, Gopal S., Antonella Balestrieri, Tanay Jujaray, Narender N. Khanna, Luca Saba, and Jasjit S. Suri. “Multiclass Magnetic Resonance Imaging Brain Tumor Classification Using Artificial Intelligence Paradigm.” Computers in Biology and Medicine 122 (July 2020): 103804. https://doi.org/10.1016/j.compbiomed.2020.103804.\n",
    "\n",
    "[^13] C. Saha and M. F. Hossain, \"MRI brain tumor images classification using K-means clustering, NSCT and SVM,\" 2017 4th IEEE Uttar Pradesh Section International Conference on Electrical, Computer and Electronics (UPCON), Mathura, India, 2017, pp. 329-333, doi: 10.1109/UPCON.2017.8251069.\n",
    "\n",
    "[^14] Wavelet-based decomposition and analysis of structural patterns in astronomical images. Florent Mertens and Andrei Lobanov. A&A, 574 (2015) A67. https://doi.org/10.1051/0004-6361/201424566."
   ]
  }
 ],
 "metadata": {
  "kernelspec": {
   "display_name": "Python 3 (ipykernel)",
   "language": "python",
   "name": "python3"
  },
  "language_info": {
   "codemirror_mode": {
    "name": "ipython",
    "version": 3
   },
   "file_extension": ".py",
   "mimetype": "text/x-python",
   "name": "python",
   "nbconvert_exporter": "python",
   "pygments_lexer": "ipython3",
   "version": "3.10.0"
  }
 },
 "nbformat": 4,
 "nbformat_minor": 2
}
